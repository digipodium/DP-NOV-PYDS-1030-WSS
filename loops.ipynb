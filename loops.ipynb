{
 "cells": [
  {
   "cell_type": "markdown",
   "metadata": {},
   "source": [
    "# Loop\n",
    "- For Loop - step based\n",
    "- While Loop - condition based\n",
    "\n",
    "for loop sytnax\n",
    "```\n",
    "for temp_variable in iterable:\n",
    "    statement 1\n",
    "    statement 2\n",
    "    ...\n",
    "    statement n\n",
    "```"
   ]
  },
  {
   "cell_type": "code",
   "execution_count": 2,
   "metadata": {},
   "outputs": [
    {
     "name": "stdout",
     "output_type": "stream",
     "text": [
      "A\n",
      "l\n",
      "p\n",
      "h\n",
      "a\n",
      "b\n",
      "e\n",
      "t\n",
      " \n",
      "a\n",
      "n\n",
      "d\n",
      " \n",
      "n\n",
      "u\n",
      "m\n",
      "b\n",
      "e\n",
      "r\n",
      "s\n"
     ]
    }
   ],
   "source": [
    "a= 'Alphabet and numbers'\n",
    "for letter in a:\n",
    "    print(letter)"
   ]
  },
  {
   "cell_type": "code",
   "execution_count": 3,
   "metadata": {},
   "outputs": [
    {
     "name": "stdout",
     "output_type": "stream",
     "text": [
      "i like red\n",
      "i like green\n",
      "i like blue\n",
      "i like yellow\n"
     ]
    }
   ],
   "source": [
    "colors = ['red', 'green', 'blue', 'yellow']\n",
    "for color in colors:\n",
    "    print('i like', color)"
   ]
  },
  {
   "cell_type": "code",
   "execution_count": 5,
   "metadata": {},
   "outputs": [
    {
     "name": "stdout",
     "output_type": "stream",
     "text": [
      "0\n",
      "1\n",
      "2\n",
      "3\n",
      "4\n",
      "5\n",
      "6\n",
      "7\n",
      "8\n",
      "9\n"
     ]
    }
   ],
   "source": [
    "for i in range(10):\n",
    "    print(i)"
   ]
  },
  {
   "cell_type": "markdown",
   "metadata": {},
   "source": [
    "range() function\n",
    "- `range(100)` => 0 - 99\n",
    "- `range(5, 50)` => 5 - 49\n",
    "- `range(5, 100, 10)` => 5, 15, 25, 35, 45, 55, 65, 75, 85, 95\n",
    "\n",
    "`range(start, stop, step)`"
   ]
  },
  {
   "cell_type": "code",
   "execution_count": 8,
   "metadata": {},
   "outputs": [
    {
     "name": "stdout",
     "output_type": "stream",
     "text": [
      "0 1 2 3 4 5 6 7 8 9 10 11 12 13 14 15 16 17 18 19 20 21 22 23 24 25 26 27 28 29 30 31 32 33 34 35 36 37 38 39 40 41 42 43 44 45 46 47 48 49 50 51 52 53 54 55 56 57 58 59 60 61 62 63 64 65 66 67 68 69 70 71 72 73 74 75 76 77 78 79 80 81 82 83 84 85 86 87 88 89 90 91 92 93 94 95 96 97 98 99 "
     ]
    }
   ],
   "source": [
    "for i in range(100):\n",
    "    print(i, end=' ')"
   ]
  },
  {
   "cell_type": "code",
   "execution_count": 9,
   "metadata": {},
   "outputs": [
    {
     "name": "stdout",
     "output_type": "stream",
     "text": [
      "5 6 7 8 9 10 11 12 13 14 15 16 17 18 19 20 21 22 23 24 25 26 27 28 29 30 31 32 33 34 35 36 37 38 39 40 41 42 43 44 45 46 47 48 49 "
     ]
    }
   ],
   "source": [
    "for i in range(5, 50):\n",
    "    print(i, end=' ')"
   ]
  },
  {
   "cell_type": "code",
   "execution_count": 15,
   "metadata": {},
   "outputs": [
    {
     "name": "stdout",
     "output_type": "stream",
     "text": [
      "5 15 25 35 45 55 65 75 85 95 "
     ]
    }
   ],
   "source": [
    "for i in range(5, 100, 10):\n",
    "    print(i, end=' ')"
   ]
  },
  {
   "cell_type": "code",
   "execution_count": 16,
   "metadata": {},
   "outputs": [
    {
     "name": "stdout",
     "output_type": "stream",
     "text": [
      "46 is even\n",
      "3 is odd\n",
      "5 is odd\n",
      "12 is even\n",
      "6 is even\n",
      "43 is odd\n",
      "6 is even\n",
      "2 is even\n"
     ]
    }
   ],
   "source": [
    "numbers = [46,3,5,12,6,43,6,2]\n",
    "for i in numbers:\n",
    "    if i % 2 == 0:\n",
    "        print(f'{i} is even')\n",
    "    else:\n",
    "        print(f'{i} is odd')"
   ]
  },
  {
   "cell_type": "code",
   "execution_count": 20,
   "metadata": {},
   "outputs": [
    {
     "name": "stdout",
     "output_type": "stream",
     "text": [
      "yellow\n",
      "orange\n"
     ]
    }
   ],
   "source": [
    "colors = ['red', 'green', 'blue', 'yellow', 'orange']\n",
    "for c in colors:\n",
    "    if 'o' in c:\n",
    "        print(c)"
   ]
  },
  {
   "cell_type": "code",
   "execution_count": 23,
   "metadata": {},
   "outputs": [
    {
     "name": "stdout",
     "output_type": "stream",
     "text": [
      "Hello Sir\n",
      "Hello Doctor\n",
      "Hello Ma'am\n",
      "Hello Sir\n",
      "Hello Sir\n",
      "Hello Doctor\n",
      "Alex is not invited\n"
     ]
    }
   ],
   "source": [
    "guests = ['Mr. John', 'Dr. Smith', 'Mrs. Jones',\n",
    "         'Mr. Smith', 'Mr. Jones', 'Dr. Strange', \"Alex\"]\n",
    "\n",
    "for name in guests:\n",
    "    if name.startswith('Mr.'):\n",
    "        print(\"Hello Sir\")\n",
    "    elif name.startswith('Mrs.'):\n",
    "        print(\"Hello Ma'am\")\n",
    "    elif name.startswith('Dr.'):\n",
    "        print(\"Hello Doctor\")\n",
    "    else:\n",
    "        print(f\"{name} is not invited\")"
   ]
  },
  {
   "cell_type": "code",
   "execution_count": null,
   "metadata": {},
   "outputs": [],
   "source": [
    "numbers = [23,56,23,57,68,34,67,45,46,56,87]\n",
    "# num < 30 😀 :D\n",
    "# num > 50 😞 :(\n",
    "# else 😐 :|"
   ]
  },
  {
   "cell_type": "code",
   "execution_count": null,
   "metadata": {},
   "outputs": [],
   "source": []
  }
 ],
 "metadata": {
  "kernelspec": {
   "display_name": "Python 3.9.13 ('base')",
   "language": "python",
   "name": "python3"
  },
  "language_info": {
   "codemirror_mode": {
    "name": "ipython",
    "version": 3
   },
   "file_extension": ".py",
   "mimetype": "text/x-python",
   "name": "python",
   "nbconvert_exporter": "python",
   "pygments_lexer": "ipython3",
   "version": "3.9.13"
  },
  "orig_nbformat": 4,
  "vscode": {
   "interpreter": {
    "hash": "203ec5af3e26acf3e3c83a4183d4b4efe59642f60e2721ccf6236536a59ece46"
   }
  }
 },
 "nbformat": 4,
 "nbformat_minor": 2
}
