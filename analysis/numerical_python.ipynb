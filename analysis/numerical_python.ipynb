{
 "cells": [
  {
   "attachments": {},
   "cell_type": "markdown",
   "metadata": {},
   "source": [
    "why should i use numpy?"
   ]
  },
  {
   "cell_type": "code",
   "execution_count": 2,
   "metadata": {},
   "outputs": [
    {
     "name": "stderr",
     "output_type": "stream",
     "text": [
      "c:\\Users\\ZAID\\miniconda\\lib\\site-packages\\numpy\\_distributor_init.py:30: UserWarning: loaded more than 1 DLL from .libs:\n",
      "c:\\Users\\ZAID\\miniconda\\lib\\site-packages\\numpy\\.libs\\libopenblas.EL2C6PLE4ZYW3ECEVIV3OXXGRN2NRFM2.gfortran-win_amd64.dll\n",
      "c:\\Users\\ZAID\\miniconda\\lib\\site-packages\\numpy\\.libs\\libopenblas64__v0.3.21-gcc_10_3_0.dll\n",
      "  warnings.warn(\"loaded more than 1 DLL from .libs:\"\n"
     ]
    }
   ],
   "source": [
    "import numpy as np"
   ]
  },
  {
   "cell_type": "code",
   "execution_count": 3,
   "metadata": {},
   "outputs": [
    {
     "name": "stdout",
     "output_type": "stream",
     "text": [
      "[[5 5]\n",
      " [9 6]]\n"
     ]
    }
   ],
   "source": [
    "x = np.array([[3,2],[5,5]])\n",
    "y = np.array([[2,3],[4,1]])\n",
    "z = x + y\n",
    "print( z )"
   ]
  },
  {
   "cell_type": "code",
   "execution_count": 4,
   "metadata": {},
   "outputs": [
    {
     "name": "stdout",
     "output_type": "stream",
     "text": [
      "matrix properties\n",
      "shape=>  (2, 2)\n",
      "size=>  4\n",
      "dtype=>  int32\n",
      "ndim=>  2\n"
     ]
    }
   ],
   "source": [
    "print(\"matrix properties\")\n",
    "print(\"shape=> \", z.shape)\n",
    "print(\"size=> \", z.size)\n",
    "print(\"dtype=> \", z.dtype)\n",
    "print(\"ndim=> \", z.ndim)"
   ]
  },
  {
   "cell_type": "code",
   "execution_count": 5,
   "metadata": {},
   "outputs": [
    {
     "name": "stdout",
     "output_type": "stream",
     "text": [
      "(3, 3)\n",
      "9\n",
      "int32\n",
      "2\n",
      "[[3 1 2]\n",
      " [1 2 3]\n",
      " [2 3 1]]\n"
     ]
    }
   ],
   "source": [
    "x = np.array([\n",
    "    [3, 1, 2],\n",
    "    [1, 2, 3],\n",
    "    [2, 3, 1],\n",
    "])\n",
    "print(x.shape)\n",
    "print(x.size)\n",
    "print(x.dtype)\n",
    "print(x.ndim)\n",
    "print(x)"
   ]
  },
  {
   "attachments": {},
   "cell_type": "markdown",
   "metadata": {},
   "source": [
    "generating matrix \n",
    "- sequential\n",
    "    - np.arange\n",
    "    - np.linspace\n",
    "    - np.logspace\n",
    "- random\n",
    "    - np.random.rand \n",
    "    - np.random.randint\n",
    "    - np.random.uniform\n",
    "- special\n",
    "    - np.zeros\n",
    "    - np.ones\n",
    "    - np.eye\n",
    "    - np.diag"
   ]
  },
  {
   "cell_type": "code",
   "execution_count": 6,
   "metadata": {},
   "outputs": [
    {
     "name": "stdout",
     "output_type": "stream",
     "text": [
      "[-100  -95  -90  -85  -80  -75  -70  -65  -60  -55  -50  -45  -40  -35\n",
      "  -30  -25  -20  -15  -10   -5    0    5   10   15   20   25   30   35\n",
      "   40   45   50   55   60   65   70   75   80   85   90   95]\n"
     ]
    }
   ],
   "source": [
    "a = np.arange(-100,100,5)\n",
    "print(a)"
   ]
  },
  {
   "cell_type": "code",
   "execution_count": 7,
   "metadata": {},
   "outputs": [
    {
     "name": "stdout",
     "output_type": "stream",
     "text": [
      "[-100.          -99.80449658  -99.60899316 ...   99.60899316   99.80449658\n",
      "  100.        ]\n"
     ]
    }
   ],
   "source": [
    "b = np.linspace(-100,100,1024)\n",
    "print(b)"
   ]
  },
  {
   "cell_type": "code",
   "execution_count": 8,
   "metadata": {},
   "outputs": [
    {
     "name": "stdout",
     "output_type": "stream",
     "text": [
      "[   2.    4.    8.   16.   32.   64.  128.  256.  512. 1024.]\n"
     ]
    }
   ],
   "source": [
    "c = np.logspace(1,10,base=2, num=10)\n",
    "print(c)"
   ]
  },
  {
   "cell_type": "code",
   "execution_count": 9,
   "metadata": {},
   "outputs": [],
   "source": [
    "import matplotlib.pyplot as plt"
   ]
  },
  {
   "cell_type": "code",
   "execution_count": 10,
   "metadata": {},
   "outputs": [
    {
     "data": {
      "text/plain": [
       "[<matplotlib.lines.Line2D at 0x1f948df5e50>]"
      ]
     },
     "execution_count": 10,
     "metadata": {},
     "output_type": "execute_result"
    },
    {
     "data": {
      "image/png": "[encoded data removed]",
      "text/plain": [
       "<Figure size 432x288 with 1 Axes>"
      ]
     },
     "metadata": {
      "needs_background": "light"
     },
     "output_type": "display_data"
    }
   ],
   "source": [
    "plt.plot(np.linspace(1, 10 ,25), \"go\")"
   ]
  },
  {
   "cell_type": "code",
   "execution_count": 11,
   "metadata": {},
   "outputs": [
    {
     "data": {
      "text/plain": [
       "[<matplotlib.lines.Line2D at 0x1f94aefbac0>]"
      ]
     },
     "execution_count": 11,
     "metadata": {},
     "output_type": "execute_result"
    },
    {
     "data": {
      "image/png": "[encoded data removed]",
      "text/plain": [
       "<Figure size 432x288 with 1 Axes>"
      ]
     },
     "metadata": {
      "needs_background": "light"
     },
     "output_type": "display_data"
    }
   ],
   "source": [
    "plt.plot(np.logspace(1, 10, 25,base=2), \"rx\")"
   ]
  },
  {
   "cell_type": "code",
   "execution_count": 12,
   "metadata": {},
   "outputs": [
    {
     "name": "stdout",
     "output_type": "stream",
     "text": [
      "[[0.33549652 0.23381388 0.7676332 ]\n",
      " [0.89613735 0.21804951 0.59905093]\n",
      " [0.27190546 0.87088333 0.44601624]\n",
      " [0.61097814 0.0642402  0.7413826 ]\n",
      " [0.4545785  0.41044171 0.85564386]]\n"
     ]
    }
   ],
   "source": [
    "x = np.random.rand(5,3)\n",
    "print(x)"
   ]
  },
  {
   "cell_type": "code",
   "execution_count": 13,
   "metadata": {},
   "outputs": [
    {
     "name": "stdout",
     "output_type": "stream",
     "text": [
      "[[-1  2  0]\n",
      " [ 3  2 -1]\n",
      " [ 4  2 -3]]\n"
     ]
    }
   ],
   "source": [
    "y = np.random.randint(-5, 5, (3,3))\n",
    "print(y)"
   ]
  },
  {
   "cell_type": "code",
   "execution_count": 14,
   "metadata": {},
   "outputs": [
    {
     "name": "stdout",
     "output_type": "stream",
     "text": [
      "[[-3.0032714   4.24955105  0.23280949]\n",
      " [-3.09227641 -1.64049677 -0.98211131]\n",
      " [ 2.70624722  1.10999076 -3.89760431]]\n"
     ]
    }
   ],
   "source": [
    "z = np.random.uniform(-5, 5, (3,3))\n",
    "print(z)"
   ]
  },
  {
   "cell_type": "code",
   "execution_count": 15,
   "metadata": {},
   "outputs": [
    {
     "name": "stdout",
     "output_type": "stream",
     "text": [
      "[[1 1 1 1 1]\n",
      " [1 1 1 1 1]\n",
      " [1 1 1 1 1]\n",
      " [1 1 1 1 1]\n",
      " [1 1 1 1 1]]\n"
     ]
    }
   ],
   "source": [
    "a = np.ones([5,5], dtype=int)\n",
    "print(a)"
   ]
  },
  {
   "cell_type": "code",
   "execution_count": 16,
   "metadata": {},
   "outputs": [
    {
     "name": "stdout",
     "output_type": "stream",
     "text": [
      "[[0 0 0 0 0 0 0 0 0 0]\n",
      " [0 0 0 0 0 0 0 0 0 0]\n",
      " [0 0 0 0 0 0 0 0 0 0]\n",
      " [0 0 0 0 0 0 0 0 0 0]\n",
      " [0 0 0 0 0 0 0 0 0 0]]\n"
     ]
    }
   ],
   "source": [
    "z = np.zeros([5,10], dtype=int)\n",
    "print(z)"
   ]
  },
  {
   "cell_type": "code",
   "execution_count": 17,
   "metadata": {},
   "outputs": [
    {
     "name": "stdout",
     "output_type": "stream",
     "text": [
      "[[1 0 0 0 0]\n",
      " [0 1 0 0 0]\n",
      " [0 0 1 0 0]\n",
      " [0 0 0 1 0]\n",
      " [0 0 0 0 1]]\n"
     ]
    }
   ],
   "source": [
    "e = np.eye(5, dtype=int)\n",
    "print(e)"
   ]
  },
  {
   "cell_type": "code",
   "execution_count": 18,
   "metadata": {},
   "outputs": [
    {
     "name": "stdout",
     "output_type": "stream",
     "text": [
      "[[2 0 0 0 0]\n",
      " [0 3 0 0 0]\n",
      " [0 0 1 0 0]\n",
      " [0 0 0 5 0]\n",
      " [0 0 0 0 6]]\n"
     ]
    }
   ],
   "source": [
    "f = np.diag([2,3,1,5,6])\n",
    "print(f)"
   ]
  },
  {
   "attachments": {},
   "cell_type": "markdown",
   "metadata": {},
   "source": [
    "maths"
   ]
  },
  {
   "cell_type": "code",
   "execution_count": 19,
   "metadata": {},
   "outputs": [
    {
     "name": "stdout",
     "output_type": "stream",
     "text": [
      "[[5 6 2]\n",
      " [6 6 4]\n",
      " [7 1 7]]\n",
      "[[1 9 1]\n",
      " [2 7 6]\n",
      " [7 7 8]]\n"
     ]
    }
   ],
   "source": [
    "x = np.random.randint(1, 10, (3,3))\n",
    "y = np.random.randint(1, 10, (3,3))\n",
    "print(x)\n",
    "print(y)"
   ]
  },
  {
   "cell_type": "code",
   "execution_count": 20,
   "metadata": {},
   "outputs": [
    {
     "data": {
      "text/plain": [
       "array([[ 6, 15,  3],\n",
       "       [ 8, 13, 10],\n",
       "       [14,  8, 15]])"
      ]
     },
     "execution_count": 20,
     "metadata": {},
     "output_type": "execute_result"
    }
   ],
   "source": [
    "x + y # element wise addition"
   ]
  },
  {
   "cell_type": "code",
   "execution_count": 21,
   "metadata": {},
   "outputs": [
    {
     "data": {
      "text/plain": [
       "array([[ 4, -3,  1],\n",
       "       [ 4, -1, -2],\n",
       "       [ 0, -6, -1]])"
      ]
     },
     "execution_count": 21,
     "metadata": {},
     "output_type": "execute_result"
    }
   ],
   "source": [
    "x - y # element wise subtraction"
   ]
  },
  {
   "cell_type": "code",
   "execution_count": 22,
   "metadata": {},
   "outputs": [
    {
     "data": {
      "text/plain": [
       "array([[5.        , 0.66666667, 2.        ],\n",
       "       [3.        , 0.85714286, 0.66666667],\n",
       "       [1.        , 0.14285714, 0.875     ]])"
      ]
     },
     "execution_count": 22,
     "metadata": {},
     "output_type": "execute_result"
    }
   ],
   "source": [
    "x / y # element wise modulo"
   ]
  },
  {
   "cell_type": "code",
   "execution_count": 23,
   "metadata": {},
   "outputs": [
    {
     "data": {
      "text/plain": [
       "array([[ 5, 54,  2],\n",
       "       [12, 42, 24],\n",
       "       [49,  7, 56]])"
      ]
     },
     "execution_count": 23,
     "metadata": {},
     "output_type": "execute_result"
    }
   ],
   "source": [
    "x * y # element wise multiplication"
   ]
  },
  {
   "cell_type": "code",
   "execution_count": 24,
   "metadata": {},
   "outputs": [
    {
     "data": {
      "text/plain": [
       "array([[ 31, 101,  57],\n",
       "       [ 46, 124,  74],\n",
       "       [ 58, 119,  69]])"
      ]
     },
     "execution_count": 24,
     "metadata": {},
     "output_type": "execute_result"
    }
   ],
   "source": [
    "np.matmul(x,y) # matrix multiplication"
   ]
  },
  {
   "cell_type": "code",
   "execution_count": 25,
   "metadata": {},
   "outputs": [
    {
     "data": {
      "text/plain": [
       "array([[ 31, 101,  57],\n",
       "       [ 46, 124,  74],\n",
       "       [ 58, 119,  69]])"
      ]
     },
     "execution_count": 25,
     "metadata": {},
     "output_type": "execute_result"
    }
   ],
   "source": [
    "np.dot(x,y) # matrix multiplication"
   ]
  },
  {
   "cell_type": "code",
   "execution_count": 26,
   "metadata": {},
   "outputs": [
    {
     "data": {
      "text/plain": [
       "array([[-12,  -3,  39],\n",
       "       [  8, -28,  30],\n",
       "       [-41,  -7,  42]])"
      ]
     },
     "execution_count": 26,
     "metadata": {},
     "output_type": "execute_result"
    }
   ],
   "source": [
    "np.cross(x,y) # cross product"
   ]
  },
  {
   "cell_type": "code",
   "execution_count": 27,
   "metadata": {},
   "outputs": [
    {
     "data": {
      "text/plain": [
       "array([[-0.95892427, -0.2794155 ,  0.90929743],\n",
       "       [-0.2794155 , -0.2794155 , -0.7568025 ],\n",
       "       [ 0.6569866 ,  0.84147098,  0.6569866 ]])"
      ]
     },
     "execution_count": 27,
     "metadata": {},
     "output_type": "execute_result"
    }
   ],
   "source": [
    "np.sin(x) # sin of each element"
   ]
  },
  {
   "cell_type": "code",
   "execution_count": 28,
   "metadata": {},
   "outputs": [
    {
     "data": {
      "text/plain": [
       "array([[ 0.28366219,  0.96017029, -0.41614684],\n",
       "       [ 0.96017029,  0.96017029, -0.65364362],\n",
       "       [ 0.75390225,  0.54030231,  0.75390225]])"
      ]
     },
     "execution_count": 28,
     "metadata": {},
     "output_type": "execute_result"
    }
   ],
   "source": [
    "np.cos(x) # cos of each element"
   ]
  },
  {
   "cell_type": "code",
   "execution_count": 29,
   "metadata": {},
   "outputs": [
    {
     "data": {
      "text/plain": [
       "array([ 5, 11, 13, 19, 25, 29, 36, 37, 44])"
      ]
     },
     "execution_count": 29,
     "metadata": {},
     "output_type": "execute_result"
    }
   ],
   "source": [
    "np.cumsum(x) # cumulative sum"
   ]
  },
  {
   "cell_type": "code",
   "execution_count": 30,
   "metadata": {},
   "outputs": [
    {
     "data": {
      "text/plain": [
       "array([     5,     30,     60,    360,   2160,   8640,  60480,  60480,\n",
       "       423360])"
      ]
     },
     "execution_count": 30,
     "metadata": {},
     "output_type": "execute_result"
    }
   ],
   "source": [
    "np.cumprod(x)"
   ]
  },
  {
   "cell_type": "code",
   "execution_count": 31,
   "metadata": {},
   "outputs": [
    {
     "data": {
      "text/plain": [
       "44"
      ]
     },
     "execution_count": 31,
     "metadata": {},
     "output_type": "execute_result"
    }
   ],
   "source": [
    "x.sum()"
   ]
  },
  {
   "cell_type": "code",
   "execution_count": 32,
   "metadata": {},
   "outputs": [
    {
     "name": "stdout",
     "output_type": "stream",
     "text": [
      "[[2 6 2 1 2]\n",
      " [2 4 8 3 2]\n",
      " [2 3 4 6 1]]\n",
      "[ 6 13 14 10  5]\n",
      "[13 19 16]\n"
     ]
    }
   ],
   "source": [
    "x = np.random.randint(1, 10, (3,5))\n",
    "print(x)\n",
    "print(x.sum(axis=0)) # sum of each column\n",
    "print(x.sum(axis=1)) # sum of each row"
   ]
  },
  {
   "cell_type": "code",
   "execution_count": 33,
   "metadata": {},
   "outputs": [
    {
     "name": "stdout",
     "output_type": "stream",
     "text": [
      "3.2\n",
      "8\n",
      "1\n",
      "1.973153144926499\n",
      "2.0\n"
     ]
    }
   ],
   "source": [
    "print(x.mean())\n",
    "print(x.max())\n",
    "print(x.min())\n",
    "print(x.std())\n",
    "print(np.median(x))"
   ]
  },
  {
   "attachments": {},
   "cell_type": "markdown",
   "metadata": {},
   "source": [
    "- reshape\n",
    "- transpose\n",
    "- flatten\n",
    "- concept of boolean indexing (filtering) "
   ]
  },
  {
   "cell_type": "code",
   "execution_count": 34,
   "metadata": {},
   "outputs": [
    {
     "name": "stdout",
     "output_type": "stream",
     "text": [
      "[[40 80 34  6 22 31]\n",
      " [ 2 32 99 45 43 45]\n",
      " [68 98 77 50 73 90]\n",
      " [62 79 19 39 86 65]\n",
      " [64 90 81 61 24  3]]\n"
     ]
    }
   ],
   "source": [
    "x = np.random.randint(1, 100, (5,6))\n",
    "print(x)"
   ]
  },
  {
   "cell_type": "code",
   "execution_count": 35,
   "metadata": {},
   "outputs": [
    {
     "name": "stdout",
     "output_type": "stream",
     "text": [
      "[[40 80 34  6 22 31  2 32 99 45 43 45 68 98 77 50 73 90 62 79 19 39 86 65\n",
      "  64 90 81 61 24  3]]\n"
     ]
    }
   ],
   "source": [
    "xi = x.reshape(1,30)\n",
    "print(xi)"
   ]
  },
  {
   "cell_type": "code",
   "execution_count": 36,
   "metadata": {},
   "outputs": [
    {
     "data": {
      "text/plain": [
       "array([[[50,  5],\n",
       "        [31, 91],\n",
       "        [31, 19],\n",
       "        [42, 59]],\n",
       "\n",
       "       [[31, 76],\n",
       "        [63, 53],\n",
       "        [96, 54],\n",
       "        [73, 43]]])"
      ]
     },
     "execution_count": 36,
     "metadata": {},
     "output_type": "execute_result"
    }
   ],
   "source": [
    "np.random.randint(1,100,(2,4,2))"
   ]
  },
  {
   "cell_type": "code",
   "execution_count": 37,
   "metadata": {},
   "outputs": [
    {
     "name": "stdout",
     "output_type": "stream",
     "text": [
      "[[6 5 2 1]\n",
      " [9 9 6 4]]\n",
      "[[6 9]\n",
      " [5 9]\n",
      " [2 6]\n",
      " [1 4]]\n",
      "[[1 4]\n",
      " [2 6]\n",
      " [5 9]\n",
      " [6 9]]\n",
      "[[1 2 5 6]\n",
      " [4 6 9 9]]\n",
      "[[9 9 6 4]\n",
      " [6 5 2 1]]\n"
     ]
    }
   ],
   "source": [
    "x = np.random.randint(1,10, (2,4))\n",
    "print(x)\n",
    "print(x.transpose())\n",
    "print(np.rot90(x))\n",
    "print(np.fliplr(x))\n",
    "print(np.flipud(x))"
   ]
  },
  {
   "cell_type": "code",
   "execution_count": 38,
   "metadata": {},
   "outputs": [
    {
     "data": {
      "text/plain": [
       "array([6, 5, 2, 1, 9, 9, 6, 4])"
      ]
     },
     "execution_count": 38,
     "metadata": {},
     "output_type": "execute_result"
    }
   ],
   "source": [
    "x.flatten()"
   ]
  },
  {
   "cell_type": "code",
   "execution_count": 39,
   "metadata": {},
   "outputs": [
    {
     "name": "stdout",
     "output_type": "stream",
     "text": [
      "[[69 90 95 46 49 34]\n",
      " [13 84 62 74 24 36]\n",
      " [54 91 11 14 64 73]\n",
      " [39 77 28 56 45 66]\n",
      " [35 39 80 29 84 37]\n",
      " [54 66 95 43 25 16]]\n"
     ]
    }
   ],
   "source": [
    "x = np.random.randint(10,100, (6,6))\n",
    "print(x)"
   ]
  },
  {
   "attachments": {},
   "cell_type": "markdown",
   "metadata": {},
   "source": [
    "only for 2d"
   ]
  },
  {
   "cell_type": "code",
   "execution_count": 40,
   "metadata": {},
   "outputs": [
    {
     "name": "stdout",
     "output_type": "stream",
     "text": [
      "first row [69 90 95 46 49 34]\n",
      "last row [54 66 95 43 25 16]\n"
     ]
    }
   ],
   "source": [
    "print('first row', x[0])\n",
    "print('last row', x[-1])"
   ]
  },
  {
   "cell_type": "code",
   "execution_count": 41,
   "metadata": {},
   "outputs": [
    {
     "name": "stdout",
     "output_type": "stream",
     "text": [
      "first element 69\n",
      "last element 16\n"
     ]
    }
   ],
   "source": [
    "print('first element', x[0,0])\n",
    "print('last element', x[-1,-1])"
   ]
  },
  {
   "cell_type": "code",
   "execution_count": 42,
   "metadata": {},
   "outputs": [
    {
     "name": "stdout",
     "output_type": "stream",
     "text": [
      "14\n"
     ]
    }
   ],
   "source": [
    "print(x[2,3])"
   ]
  },
  {
   "attachments": {},
   "cell_type": "markdown",
   "metadata": {},
   "source": [
    "array[rowslice, colslice]"
   ]
  },
  {
   "cell_type": "code",
   "execution_count": 43,
   "metadata": {},
   "outputs": [
    {
     "name": "stdout",
     "output_type": "stream",
     "text": [
      "first column [69 13 54 39 35 54]\n"
     ]
    }
   ],
   "source": [
    "print('first column',x[:,0]) # first column"
   ]
  },
  {
   "cell_type": "code",
   "execution_count": 44,
   "metadata": {},
   "outputs": [
    {
     "name": "stdout",
     "output_type": "stream",
     "text": [
      "last column [34 36 73 66 37 16]\n"
     ]
    }
   ],
   "source": [
    "print('last column',x[:,-1]) # last column"
   ]
  },
  {
   "cell_type": "code",
   "execution_count": 45,
   "metadata": {},
   "outputs": [
    {
     "data": {
      "text/plain": [
       "array([[90, 95],\n",
       "       [84, 62],\n",
       "       [91, 11],\n",
       "       [77, 28],\n",
       "       [39, 80],\n",
       "       [66, 95]])"
      ]
     },
     "execution_count": 45,
     "metadata": {},
     "output_type": "execute_result"
    }
   ],
   "source": [
    "x[:,[1,2]] "
   ]
  },
  {
   "cell_type": "code",
   "execution_count": 46,
   "metadata": {},
   "outputs": [
    {
     "data": {
      "text/plain": [
       "array([[69, 90, 95],\n",
       "       [13, 84, 62],\n",
       "       [54, 91, 11],\n",
       "       [39, 77, 28],\n",
       "       [35, 39, 80],\n",
       "       [54, 66, 95]])"
      ]
     },
     "execution_count": 46,
     "metadata": {},
     "output_type": "execute_result"
    }
   ],
   "source": [
    "x[:, :3] # first 3 columns"
   ]
  },
  {
   "cell_type": "code",
   "execution_count": 47,
   "metadata": {},
   "outputs": [
    {
     "data": {
      "text/plain": [
       "array([[69, 90, 95],\n",
       "       [13, 84, 62],\n",
       "       [54, 91, 11]])"
      ]
     },
     "execution_count": 47,
     "metadata": {},
     "output_type": "execute_result"
    }
   ],
   "source": [
    "x[:3,:3]"
   ]
  },
  {
   "cell_type": "code",
   "execution_count": 48,
   "metadata": {},
   "outputs": [
    {
     "data": {
      "text/plain": [
       "array([[ 1,  2,  3,  4,  5,  6],\n",
       "       [ 7,  8,  9, 10, 11, 12],\n",
       "       [13, 14, 15, 16, 17, 18],\n",
       "       [19, 20, 21, 22, 23, 24],\n",
       "       [25, 26, 27, 28, 29, 30],\n",
       "       [31, 32, 33, 34, 35, 36]])"
      ]
     },
     "execution_count": 48,
     "metadata": {},
     "output_type": "execute_result"
    }
   ],
   "source": [
    "y = np.arange(1,37).reshape(6,6)\n",
    "y"
   ]
  },
  {
   "cell_type": "code",
   "execution_count": 49,
   "metadata": {},
   "outputs": [
    {
     "data": {
      "text/plain": [
       "array([[22, 23, 24],\n",
       "       [28, 29, 30],\n",
       "       [34, 35, 36]])"
      ]
     },
     "execution_count": 49,
     "metadata": {},
     "output_type": "execute_result"
    }
   ],
   "source": [
    "y[3:,3:]"
   ]
  },
  {
   "cell_type": "code",
   "execution_count": 50,
   "metadata": {},
   "outputs": [
    {
     "data": {
      "text/plain": [
       "array([[19, 20],\n",
       "       [25, 26],\n",
       "       [31, 32]])"
      ]
     },
     "execution_count": 50,
     "metadata": {},
     "output_type": "execute_result"
    }
   ],
   "source": [
    "y[-3:, :2]"
   ]
  },
  {
   "cell_type": "code",
   "execution_count": 51,
   "metadata": {},
   "outputs": [
    {
     "data": {
      "text/plain": [
       "array([[24, 36],\n",
       "       [64, 73]])"
      ]
     },
     "execution_count": 51,
     "metadata": {},
     "output_type": "execute_result"
    }
   ],
   "source": [
    "x[[1,2],-2:]"
   ]
  },
  {
   "cell_type": "code",
   "execution_count": 53,
   "metadata": {},
   "outputs": [
    {
     "data": {
      "text/plain": [
       "array([[ 8,  9, 10],\n",
       "       [20, 21, 22],\n",
       "       [32, 33, 34]])"
      ]
     },
     "execution_count": 53,
     "metadata": {},
     "output_type": "execute_result"
    }
   ],
   "source": [
    "y[[1,3,-1],1:-2]"
   ]
  },
  {
   "attachments": {},
   "cell_type": "markdown",
   "metadata": {},
   "source": [
    "boolean filter"
   ]
  },
  {
   "cell_type": "code",
   "execution_count": 56,
   "metadata": {},
   "outputs": [
    {
     "name": "stdout",
     "output_type": "stream",
     "text": [
      "[848 293 672 508 108 727 302 937 115 410 228 426 581 369 400 533 927 196\n",
      " 482 588 139 686 956 786 110  82 487  84 291 621 612 699 693  51 718  10\n",
      " 853 211 774 914  85 258 823 701 745 588 523 433 251 198]\n"
     ]
    }
   ],
   "source": [
    "x = np.random.randint(1,1000, 50)\n",
    "print(x)"
   ]
  },
  {
   "cell_type": "code",
   "execution_count": 59,
   "metadata": {},
   "outputs": [
    {
     "data": {
      "text/plain": [
       "array([False, False, False, False, False, False, False, False, False,\n",
       "       False, False, False, False, False, False, False, False, False,\n",
       "       False, False, False, False, False, False, False,  True, False,\n",
       "        True, False, False, False, False, False,  True, False,  True,\n",
       "       False, False, False, False,  True, False, False, False, False,\n",
       "       False, False, False, False, False])"
      ]
     },
     "execution_count": 59,
     "metadata": {},
     "output_type": "execute_result"
    }
   ],
   "source": [
    "x < 100 # boolean filter"
   ]
  },
  {
   "cell_type": "code",
   "execution_count": 60,
   "metadata": {},
   "outputs": [
    {
     "data": {
      "text/plain": [
       "array([82, 84, 51, 10, 85])"
      ]
     },
     "execution_count": 60,
     "metadata": {},
     "output_type": "execute_result"
    }
   ],
   "source": [
    "x[x < 100]"
   ]
  },
  {
   "cell_type": "code",
   "execution_count": 62,
   "metadata": {},
   "outputs": [
    {
     "data": {
      "text/plain": [
       "array([848, 293, 672, 508, 108, 727, 302, 937, 115, 410, 228, 426, 581,\n",
       "       369, 400, 533, 927, 196, 482, 588, 139, 686, 956, 786, 110, 487,\n",
       "       291, 621, 612, 699, 693, 718, 853, 211, 774, 914, 258, 823, 701,\n",
       "       745, 588, 523, 433, 251, 198])"
      ]
     },
     "execution_count": 62,
     "metadata": {},
     "output_type": "execute_result"
    }
   ],
   "source": [
    "x[x >= 100]"
   ]
  },
  {
   "cell_type": "code",
   "execution_count": 74,
   "metadata": {},
   "outputs": [],
   "source": [
    "f1 = x >= 500 \n",
    "f2 = x <= 800"
   ]
  },
  {
   "cell_type": "code",
   "execution_count": 76,
   "metadata": {},
   "outputs": [
    {
     "name": "stdout",
     "output_type": "stream",
     "text": [
      "[672 508 727 581 533 588 686 786 621 612 699 693 718 774 701 745 588 523]\n",
      "[672 508 727 581 533 588 686 786 621 612 699 693 718 774 701 745 588 523]\n"
     ]
    }
   ],
   "source": [
    "print(x[f1 & f2])\n",
    "print(x[(x>=500) & (x<=800)])"
   ]
  },
  {
   "cell_type": "code",
   "execution_count": null,
   "metadata": {},
   "outputs": [],
   "source": []
  }
 ],
 "metadata": {
  "kernelspec": {
   "display_name": "base",
   "language": "python",
   "name": "python3"
  },
  "language_info": {
   "codemirror_mode": {
    "name": "ipython",
    "version": 3
   },
   "file_extension": ".py",
   "mimetype": "text/x-python",
   "name": "python",
   "nbconvert_exporter": "python",
   "pygments_lexer": "ipython3",
   "version": "3.10.9"
  },
  "orig_nbformat": 4,
  "vscode": {
   "interpreter": {
    "hash": "8befaed7f752a58a740e5f08c55a1efd8fcda412d7a2f1c4d828330769dea609"
   }
  }
 },
 "nbformat": 4,
 "nbformat_minor": 2
}
