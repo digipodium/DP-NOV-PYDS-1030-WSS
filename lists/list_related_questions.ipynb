{
 "cells": [
  {
   "attachments": {},
   "cell_type": "markdown",
   "metadata": {},
   "source": [
    "take 2 list and create another list by adding elements of both list together according to index.\n",
    "```\n",
    "x = [1, 2, 3]\n",
    "y = [4, 5, 6]\n",
    "```\n",
    "answer\n",
    "```\n",
    "z = [5, 7, 9]\n",
    "```"
   ]
  },
  {
   "cell_type": "code",
   "execution_count": 8,
   "metadata": {},
   "outputs": [
    {
     "name": "stdout",
     "output_type": "stream",
     "text": [
      "[1, 2, 4, 5, 6, 2, 5, 1]\n",
      "[2, 3, 5, 1, 2]\n",
      "---------------\n",
      "[3, 5, 9, 6, 8]\n"
     ]
    }
   ],
   "source": [
    "z = [ ]\n",
    "a = [1,2,4,5,6]\n",
    "b = [2,3,5,1,2]\n",
    "for i, j in zip(a,b):\n",
    "    ans = i + j\n",
    "    z.append(ans)\n",
    "print(a)\n",
    "print(b)\n",
    "print('-'*15)\n",
    "print(z)"
   ]
  },
  {
   "attachments": {},
   "cell_type": "markdown",
   "metadata": {},
   "source": [
    "### we have length of 5 items in one list and and width of 5 items in another list. calculate the area and store them into third list, take one item from both list at a time.  \n",
    "```\n",
    "length = [1,2,3,55]\n",
    "width = [2,1,25,1]\n",
    "```\n",
    "answer\n",
    "```\n",
    "area = [2,2,75,55]\n",
    "```"
   ]
  },
  {
   "attachments": {},
   "cell_type": "markdown",
   "metadata": {},
   "source": [
    "# Question. \n",
    "### we have a list of numbers, we need to square each number and store them into another list.  \n",
    "```\n",
    "numbers = [1,2,3,4,5]\n",
    "```\n",
    "answer\n",
    "```\n",
    "squares = [1,4,9,16,25]\n",
    "```"
   ]
  },
  {
   "cell_type": "code",
   "execution_count": 2,
   "metadata": {},
   "outputs": [
    {
     "name": "stdout",
     "output_type": "stream",
     "text": [
      "[23, 2, 15, 12, 5]\n",
      "[529, 4, 225, 144, 25]\n"
     ]
    }
   ],
   "source": [
    "numbers = [23,2,15,12,5]\n",
    "squares = [ ]\n",
    "for i in numbers:\n",
    "    squares.append(i**2)\n",
    "print(numbers)\n",
    "print(squares)"
   ]
  },
  {
   "attachments": {},
   "cell_type": "markdown",
   "metadata": {},
   "source": [
    "# List comprehension\n",
    "```\n",
    "newlist = [expression for item in iterable if condition == True]\n",
    "```"
   ]
  },
  {
   "cell_type": "code",
   "execution_count": 3,
   "metadata": {},
   "outputs": [
    {
     "name": "stdout",
     "output_type": "stream",
     "text": [
      "[6, 2, 3, 7, 2, 3, 5, 12, 5, 6]\n",
      "[36, 4, 9, 49, 4, 9, 25, 144, 25, 36]\n"
     ]
    }
   ],
   "source": [
    "x = [6,2,3,7,2,3,5,12,5,6]\n",
    "x2 = [i**2 for i in x]\n",
    "print(x)\n",
    "print(x2)"
   ]
  },
  {
   "cell_type": "code",
   "execution_count": 4,
   "metadata": {},
   "outputs": [
    {
     "name": "stdout",
     "output_type": "stream",
     "text": [
      "[6, 2, 3, 7, 2, 3, 5, 12, 5, 6]\n",
      "[6, 2, 2, 12, 6]\n"
     ]
    }
   ],
   "source": [
    "x = [6,2,3,7,2,3,5,12,5,6]\n",
    "x_even = [i for i in x if i%2==0]\n",
    "print(x)\n",
    "print(x_even)"
   ]
  },
  {
   "cell_type": "code",
   "execution_count": 5,
   "metadata": {},
   "outputs": [
    {
     "name": "stdout",
     "output_type": "stream",
     "text": [
      "['Hello', 'Alphabet', 'Python', 'Worldwide']\n",
      "[5, 8, 6, 9]\n"
     ]
    }
   ],
   "source": [
    "words = ['Hello','Alphabet','Python','Worldwide']\n",
    "sizes = [len(w) for w in words]\n",
    "print(words)\n",
    "print(sizes)"
   ]
  },
  {
   "cell_type": "code",
   "execution_count": null,
   "metadata": {},
   "outputs": [],
   "source": [
    "words = ['Hello','Alphabet','Python','Worldwide']\n",
    "sizes = []\n",
    "for w in words:\n",
    "    sizes.append(len(w))\n",
    "print(words)\n",
    "print(sizes)"
   ]
  },
  {
   "cell_type": "code",
   "execution_count": 6,
   "metadata": {},
   "outputs": [
    {
     "name": "stdout",
     "output_type": "stream",
     "text": [
      "[10, 60, 60, 420, 10]\n"
     ]
    }
   ],
   "source": [
    "lengths = [2,5,12,35,5]\n",
    "widths =  [5,12,5,12,2]\n",
    "areas = [l*w for l,w in zip(lengths,widths)]\n",
    "print(areas)"
   ]
  },
  {
   "cell_type": "code",
   "execution_count": null,
   "metadata": {},
   "outputs": [],
   "source": []
  }
 ],
 "metadata": {
  "kernelspec": {
   "display_name": "base",
   "language": "python",
   "name": "python3"
  },
  "language_info": {
   "codemirror_mode": {
    "name": "ipython",
    "version": 3
   },
   "file_extension": ".py",
   "mimetype": "text/x-python",
   "name": "python",
   "nbconvert_exporter": "python",
   "pygments_lexer": "ipython3",
   "version": "3.9.13 | packaged by conda-forge | (main, May 27 2022, 16:50:36) [MSC v.1929 64 bit (AMD64)]"
  },
  "orig_nbformat": 4,
  "vscode": {
   "interpreter": {
    "hash": "203ec5af3e26acf3e3c83a4183d4b4efe59642f60e2721ccf6236536a59ece46"
   }
  }
 },
 "nbformat": 4,
 "nbformat_minor": 2
}
