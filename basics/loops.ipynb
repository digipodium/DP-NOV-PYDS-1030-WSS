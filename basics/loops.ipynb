{
 "cells": [
  {
   "cell_type": "markdown",
   "metadata": {},
   "source": [
    "# Loop\n",
    "- For Loop - step based\n",
    "- While Loop - condition based\n",
    "\n",
    "for loop sytnax\n",
    "```\n",
    "for temp_variable in iterable:\n",
    "    statement 1\n",
    "    statement 2\n",
    "    ...\n",
    "    statement n\n",
    "```"
   ]
  },
  {
   "cell_type": "code",
   "execution_count": 1,
   "metadata": {},
   "outputs": [
    {
     "name": "stdout",
     "output_type": "stream",
     "text": [
      "A\n",
      "l\n",
      "p\n",
      "h\n",
      "a\n",
      "b\n",
      "e\n",
      "t\n",
      " \n",
      "a\n",
      "n\n",
      "d\n",
      " \n",
      "n\n",
      "u\n",
      "m\n",
      "b\n",
      "e\n",
      "r\n",
      "s\n"
     ]
    }
   ],
   "source": [
    "a= 'Alphabet and numbers'\n",
    "for letter in a:\n",
    "    print(letter)"
   ]
  },
  {
   "cell_type": "code",
   "execution_count": 3,
   "metadata": {},
   "outputs": [
    {
     "name": "stdout",
     "output_type": "stream",
     "text": [
      "i like red\n",
      "i like green\n",
      "i like blue\n",
      "i like yellow\n"
     ]
    }
   ],
   "source": [
    "colors = ['red', 'green', 'blue', 'yellow']\n",
    "for color in colors:\n",
    "    print('i like', color)"
   ]
  },
  {
   "cell_type": "code",
   "execution_count": 5,
   "metadata": {},
   "outputs": [
    {
     "name": "stdout",
     "output_type": "stream",
     "text": [
      "0\n",
      "1\n",
      "2\n",
      "3\n",
      "4\n",
      "5\n",
      "6\n",
      "7\n",
      "8\n",
      "9\n"
     ]
    }
   ],
   "source": [
    "for i in range(10):\n",
    "    print(i)"
   ]
  },
  {
   "cell_type": "markdown",
   "metadata": {},
   "source": [
    "range() function\n",
    "- `range(100)` => 0 - 99\n",
    "- `range(5, 50)` => 5 - 49\n",
    "- `range(5, 100, 10)` => 5, 15, 25, 35, 45, 55, 65, 75, 85, 95\n",
    "\n",
    "`range(start, stop, step)`"
   ]
  },
  {
   "cell_type": "code",
   "execution_count": 8,
   "metadata": {},
   "outputs": [
    {
     "name": "stdout",
     "output_type": "stream",
     "text": [
      "0 1 2 3 4 5 6 7 8 9 10 11 12 13 14 15 16 17 18 19 20 21 22 23 24 25 26 27 28 29 30 31 32 33 34 35 36 37 38 39 40 41 42 43 44 45 46 47 48 49 50 51 52 53 54 55 56 57 58 59 60 61 62 63 64 65 66 67 68 69 70 71 72 73 74 75 76 77 78 79 80 81 82 83 84 85 86 87 88 89 90 91 92 93 94 95 96 97 98 99 "
     ]
    }
   ],
   "source": [
    "for i in range(100):\n",
    "    print(i, end=' ')"
   ]
  },
  {
   "cell_type": "code",
   "execution_count": 9,
   "metadata": {},
   "outputs": [
    {
     "name": "stdout",
     "output_type": "stream",
     "text": [
      "5 6 7 8 9 10 11 12 13 14 15 16 17 18 19 20 21 22 23 24 25 26 27 28 29 30 31 32 33 34 35 36 37 38 39 40 41 42 43 44 45 46 47 48 49 "
     ]
    }
   ],
   "source": [
    "for i in range(5, 50):\n",
    "    print(i, end=' ')"
   ]
  },
  {
   "cell_type": "code",
   "execution_count": 15,
   "metadata": {},
   "outputs": [
    {
     "name": "stdout",
     "output_type": "stream",
     "text": [
      "5 15 25 35 45 55 65 75 85 95 "
     ]
    }
   ],
   "source": [
    "for i in range(5, 100, 10):\n",
    "    print(i, end=' ')"
   ]
  },
  {
   "cell_type": "code",
   "execution_count": 16,
   "metadata": {},
   "outputs": [
    {
     "name": "stdout",
     "output_type": "stream",
     "text": [
      "46 is even\n",
      "3 is odd\n",
      "5 is odd\n",
      "12 is even\n",
      "6 is even\n",
      "43 is odd\n",
      "6 is even\n",
      "2 is even\n"
     ]
    }
   ],
   "source": [
    "numbers = [46,3,5,12,6,43,6,2]\n",
    "for i in numbers:\n",
    "    if i % 2 == 0:\n",
    "        print(f'{i} is even')\n",
    "    else:\n",
    "        print(f'{i} is odd')"
   ]
  },
  {
   "cell_type": "code",
   "execution_count": 20,
   "metadata": {},
   "outputs": [
    {
     "name": "stdout",
     "output_type": "stream",
     "text": [
      "yellow\n",
      "orange\n"
     ]
    }
   ],
   "source": [
    "colors = ['red', 'green', 'blue', 'yellow', 'orange']\n",
    "for c in colors:\n",
    "    if 'o' in c:\n",
    "        print(c)"
   ]
  },
  {
   "cell_type": "code",
   "execution_count": 23,
   "metadata": {},
   "outputs": [
    {
     "name": "stdout",
     "output_type": "stream",
     "text": [
      "Hello Sir\n",
      "Hello Doctor\n",
      "Hello Ma'am\n",
      "Hello Sir\n",
      "Hello Sir\n",
      "Hello Doctor\n",
      "Alex is not invited\n"
     ]
    }
   ],
   "source": [
    "guests = ['Mr. John', 'Dr. Smith', 'Mrs. Jones',\n",
    "         'Mr. Smith', 'Mr. Jones', 'Dr. Strange', \"Alex\"]\n",
    "\n",
    "for name in guests:\n",
    "    if name.startswith('Mr.'):\n",
    "        print(\"Hello Sir\")\n",
    "    elif name.startswith('Mrs.'):\n",
    "        print(\"Hello Ma'am\")\n",
    "    elif name.startswith('Dr.'):\n",
    "        print(\"Hello Doctor\")\n",
    "    else:\n",
    "        print(f\"{name} is not invited\")"
   ]
  },
  {
   "cell_type": "code",
   "execution_count": null,
   "metadata": {},
   "outputs": [],
   "source": [
    "numbers = [23,56,23,57,68,34,67,45,46,56,87]\n",
    "# num < 30 😀 :D\n",
    "# num > 50 😞 :(\n",
    "# else 😐 :|"
   ]
  },
  {
   "cell_type": "markdown",
   "metadata": {},
   "source": [
    "### functions that used along with loops\n",
    "- enumerate()\n",
    "- zip()"
   ]
  },
  {
   "cell_type": "code",
   "execution_count": 11,
   "metadata": {},
   "outputs": [
    {
     "name": "stdout",
     "output_type": "stream",
     "text": [
      "(0, 'Ritesh')\n",
      "(1, 'Nitesh')\n",
      "(2, 'Himanshu')\n",
      "(3, 'Amita')\n",
      "(4, 'Avnish')\n",
      "(5, 'Aditya')\n",
      "(6, 'Areesha')\n",
      "(7, 'Muskan')\n",
      "(8, 'Pragya')\n",
      "(9, 'Udbhav')\n",
      "(10, 'Priyanshhi')\n",
      "(11, 'Amrit')\n"
     ]
    }
   ],
   "source": [
    "names = ['Ritesh','Nitesh','Himanshu','Amita','Avnish','Aditya',\n",
    "        'Areesha','Muskan','Pragya','Udbhav','Priyanshhi', 'Amrit']\n",
    "for nm in enumerate(names):\n",
    "    print(nm)"
   ]
  },
  {
   "cell_type": "code",
   "execution_count": 9,
   "metadata": {},
   "outputs": [
    {
     "name": "stdout",
     "output_type": "stream",
     "text": [
      "Ritesh is at index 0\n",
      "Nitesh is at index 1\n",
      "Himanshu is at index 2\n",
      "Amita is at index 3\n",
      "Avnish is at index 4\n",
      "Areesha is at index 5\n",
      "Muskan is at index 6\n",
      "Pragya is at index 7\n",
      "Udbhav is at index 8\n"
     ]
    }
   ],
   "source": [
    "for i, nm in enumerate(names):\n",
    "    print(f'{nm} is at index {i}')"
   ]
  },
  {
   "cell_type": "code",
   "execution_count": 12,
   "metadata": {},
   "outputs": [],
   "source": [
    "bday = ['12 Oct','2 Feb','18 Jan','20 Oct','3 May','13 Aug',\n",
    "    '12 Jun', '22 Mar','13 Sep','30 Aug','25 Oct','13 May']"
   ]
  },
  {
   "cell_type": "code",
   "execution_count": 23,
   "metadata": {},
   "outputs": [
    {
     "name": "stdout",
     "output_type": "stream",
     "text": [
      "Ritesh has 🎂 12 Oct\n",
      "Nitesh has 🎂 2 Feb\n",
      "Himanshu has 🎂 18 Jan\n",
      "Amita has 🎂 20 Oct\n",
      "Avnish has 🎂 3 May\n",
      "Aditya has 🎂 13 Aug\n",
      "Areesha has 🎂 12 Jun\n",
      "Muskan has 🎂 22 Mar\n",
      "Pragya has 🎂 13 Sep\n",
      "Udbhav has 🎂 30 Aug\n",
      "Priyanshhi has 🎂 25 Oct\n",
      "Amrit has 🎂 13 May\n"
     ]
    }
   ],
   "source": [
    "for nm, date in zip(names, bday):\n",
    "    print(f'{nm} has 🎂 {date}')"
   ]
  },
  {
   "cell_type": "code",
   "execution_count": 26,
   "metadata": {},
   "outputs": [
    {
     "name": "stdout",
     "output_type": "stream",
     "text": [
      "TV | $40000 | 5 pcs | total = 200000\n",
      "Frigde | $26000 | 10 pcs | total = 260000\n",
      "Table Fan | $3000 | 25 pcs | total = 75000\n"
     ]
    }
   ],
   "source": [
    "products = ['TV','Frigde','Table Fan']\n",
    "prices = ['40000','26000','3000']\n",
    "qty = [5, 10, 25]\n",
    "\n",
    "for p, pr, q in zip(products, prices, qty):\n",
    "    print(f'{p} | ${pr} | {q} pcs | total = {int(pr)*q}')"
   ]
  },
  {
   "cell_type": "markdown",
   "metadata": {},
   "source": [
    "Loop control\n",
    "- continue => skip a turn\n",
    "- break => exit/stop the loop\n",
    "\n",
    "Note: they are only used in a condition inside loop"
   ]
  },
  {
   "cell_type": "code",
   "execution_count": 32,
   "metadata": {},
   "outputs": [
    {
     "name": "stdout",
     "output_type": "stream",
     "text": [
      "1\n",
      "2\n",
      "4\n",
      "1\n",
      "5\n",
      "0\n",
      "35\n",
      "0\n",
      "1\n",
      "0\n",
      "2\n",
      "5\n",
      "6\n"
     ]
    }
   ],
   "source": [
    "x= [1,2,4,1,5,0,35,0,1,0,2,5,6]\n",
    "for i in x:\n",
    "    if i == 0:\n",
    "        continue\n",
    "    print(i)"
   ]
  },
  {
   "cell_type": "code",
   "execution_count": 33,
   "metadata": {},
   "outputs": [
    {
     "name": "stdout",
     "output_type": "stream",
     "text": [
      "1\n",
      "2\n",
      "4\n",
      "1\n",
      "5\n",
      "invalid data found, stopping code\n"
     ]
    }
   ],
   "source": [
    "for i in x:\n",
    "    if i == 0:\n",
    "        print('invalid data found, stopping code')\n",
    "        break\n",
    "    print(i)"
   ]
  },
  {
   "cell_type": "code",
   "execution_count": 35,
   "metadata": {},
   "outputs": [
    {
     "name": "stdout",
     "output_type": "stream",
     "text": [
      "Ritesh\n",
      "Nitesh\n",
      "Himanshu\n",
      "Amita\n",
      "Avnish\n"
     ]
    }
   ],
   "source": [
    "for i, nm in enumerate(names):\n",
    "    if i == 5:\n",
    "        break\n",
    "    print(nm)"
   ]
  },
  {
   "cell_type": "markdown",
   "metadata": {},
   "source": [
    "for - else"
   ]
  },
  {
   "cell_type": "code",
   "execution_count": 52,
   "metadata": {},
   "outputs": [
    {
     "name": "stdout",
     "output_type": "stream",
     "text": [
      "2 4 6 Loop broken\n"
     ]
    }
   ],
   "source": [
    "# C, Java, C#\n",
    "c = True # flag or switch\n",
    "for i in [2,4,6,5,6,1,7,2]:\n",
    "    if i == 5:\n",
    "        c = False\n",
    "        break\n",
    "    print(i, end=' ')\n",
    "if c:\n",
    "    print('Loop completed')\n",
    "else:\n",
    "    print('Loop broken')\n"
   ]
  },
  {
   "cell_type": "code",
   "execution_count": 59,
   "metadata": {},
   "outputs": [
    {
     "name": "stdout",
     "output_type": "stream",
     "text": [
      "2 1 32 41 2 5 loop broken\n"
     ]
    }
   ],
   "source": [
    "for i in [2,1,32,41,2,1,2,3,31,31]:\n",
    "    if i == 5:\n",
    "        print('loop broken')\n",
    "        break\n",
    "    print(i, end=' ')\n",
    "else:\n",
    "    print('loop completed')\n"
   ]
  },
  {
   "cell_type": "markdown",
   "metadata": {},
   "source": [
    "while"
   ]
  },
  {
   "cell_type": "code",
   "execution_count": 60,
   "metadata": {},
   "outputs": [
    {
     "name": "stdout",
     "output_type": "stream",
     "text": [
      "100\n",
      "90\n",
      "80\n",
      "70\n",
      "60\n",
      "50\n",
      "40\n",
      "30\n",
      "20\n",
      "10\n"
     ]
    }
   ],
   "source": [
    "x = 100\n",
    "while x > 0:\n",
    "    print(x)\n",
    "    x -= 10"
   ]
  }
 ],
 "metadata": {
  "kernelspec": {
   "display_name": "Python 3.9.13 ('base')",
   "language": "python",
   "name": "python3"
  },
  "language_info": {
   "codemirror_mode": {
    "name": "ipython",
    "version": 3
   },
   "file_extension": ".py",
   "mimetype": "text/x-python",
   "name": "python",
   "nbconvert_exporter": "python",
   "pygments_lexer": "ipython3",
   "version": "3.9.13"
  },
  "orig_nbformat": 4,
  "vscode": {
   "interpreter": {
    "hash": "203ec5af3e26acf3e3c83a4183d4b4efe59642f60e2721ccf6236536a59ece46"
   }
  }
 },
 "nbformat": 4,
 "nbformat_minor": 2
}
